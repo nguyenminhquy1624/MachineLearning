{
  "nbformat": 4,
  "nbformat_minor": 0,
  "metadata": {
    "colab": {
      "provenance": []
    },
    "kernelspec": {
      "name": "python3",
      "display_name": "Python 3"
    },
    "language_info": {
      "name": "python"
    }
  },
  "cells": [
    {
      "cell_type": "markdown",
      "source": [
        "+ SVD là phương pháp phân tách ma trận.\n",
        "    + A = U . Sigma . V^T\n",
        "+ U là ma trận m x n , Sigma là ma trận đường chéo kích thước m x n và V^T là chuyển vị của ma trận n x n."
      ],
      "metadata": {
        "id": "qregaGV9FxTp"
      }
    },
    {
      "cell_type": "code",
      "execution_count": 42,
      "metadata": {
        "id": "8AbZF83EFYFt"
      },
      "outputs": [],
      "source": [
        "import numpy as np\n",
        "from scipy.linalg import svd"
      ]
    },
    {
      "cell_type": "code",
      "source": [
        "A = np.array([[1,2], [3,4], [5,6]])\n",
        "print(type(A))\n",
        "print(A)\n"
      ],
      "metadata": {
        "colab": {
          "base_uri": "https://localhost:8080/"
        },
        "id": "U5LF2dCEIook",
        "outputId": "87639d45-9012-4660-cbba-affa66812c1f"
      },
      "execution_count": 43,
      "outputs": [
        {
          "output_type": "stream",
          "name": "stdout",
          "text": [
            "<class 'numpy.ndarray'>\n",
            "[[1 2]\n",
            " [3 4]\n",
            " [5 6]]\n"
          ]
        }
      ]
    },
    {
      "cell_type": "markdown",
      "source": [
        "# Phân giã ma trận thành các thành phần S,V,D"
      ],
      "metadata": {
        "id": "7JXTFtrvJjnl"
      }
    },
    {
      "cell_type": "code",
      "source": [
        "U, s, VT = svd(A)"
      ],
      "metadata": {
        "id": "kLvhu44RI5z1"
      },
      "execution_count": 44,
      "outputs": []
    },
    {
      "cell_type": "code",
      "source": [
        "print('Shape of U = ',U.shape)\n",
        "print('U = ',U)"
      ],
      "metadata": {
        "colab": {
          "base_uri": "https://localhost:8080/"
        },
        "id": "zsdXGIFgJEb3",
        "outputId": "1ff3bbbb-dbb4-40af-a83c-5df5672de845"
      },
      "execution_count": 45,
      "outputs": [
        {
          "output_type": "stream",
          "name": "stdout",
          "text": [
            "Shape of U =  (3, 3)\n",
            "U =  [[-0.2298477   0.88346102  0.40824829]\n",
            " [-0.52474482  0.24078249 -0.81649658]\n",
            " [-0.81964194 -0.40189603  0.40824829]]\n"
          ]
        }
      ]
    },
    {
      "cell_type": "code",
      "source": [
        "print('Shape of s = ',s.shape)\n",
        "print('s = ',s)"
      ],
      "metadata": {
        "colab": {
          "base_uri": "https://localhost:8080/"
        },
        "id": "ymAe0h5KJKsT",
        "outputId": "d732c3de-08ec-44a4-9268-cb41adf5b8e1"
      },
      "execution_count": 46,
      "outputs": [
        {
          "output_type": "stream",
          "name": "stdout",
          "text": [
            "Shape of s =  (2,)\n",
            "s =  [9.52551809 0.51430058]\n"
          ]
        }
      ]
    },
    {
      "cell_type": "code",
      "source": [
        "print('Shape of V^T = ',VT.shape)\n",
        "print('V^T = ',VT)\n"
      ],
      "metadata": {
        "colab": {
          "base_uri": "https://localhost:8080/"
        },
        "id": "RAYbuy4OJRMJ",
        "outputId": "f228cfe0-f216-4ac2-8f59-0b0a16ebe2a8"
      },
      "execution_count": 47,
      "outputs": [
        {
          "output_type": "stream",
          "name": "stdout",
          "text": [
            "Shape of V^T =  (2, 2)\n",
            "V^T =  [[-0.61962948 -0.78489445]\n",
            " [-0.78489445  0.61962948]]\n"
          ]
        }
      ]
    },
    {
      "cell_type": "markdown",
      "source": [
        "# Xây dựng lại ma trận SVD"
      ],
      "metadata": {
        "id": "wtaBtPiCJphF"
      }
    },
    {
      "cell_type": "code",
      "source": [
        "Sigma = np.zeros((A.shape[0], A.shape[1]))\n",
        "print(Sigma.shape)\n",
        "print(Sigma)"
      ],
      "metadata": {
        "colab": {
          "base_uri": "https://localhost:8080/"
        },
        "id": "DmAGXhkcJXvq",
        "outputId": "8ddbdc4e-8426-48d2-c579-45711b73115a"
      },
      "execution_count": 48,
      "outputs": [
        {
          "output_type": "stream",
          "name": "stdout",
          "text": [
            "(3, 2)\n",
            "[[0. 0.]\n",
            " [0. 0.]\n",
            " [0. 0.]]\n"
          ]
        }
      ]
    },
    {
      "cell_type": "code",
      "source": [
        "Sigma[:A.shape[1], :A.shape[1]] = np.diag(s)"
      ],
      "metadata": {
        "id": "YFUgNSyhJ6Fj"
      },
      "execution_count": 49,
      "outputs": []
    },
    {
      "cell_type": "code",
      "source": [
        "B = U.dot(Sigma).dot(VT)\n",
        "print(B)"
      ],
      "metadata": {
        "colab": {
          "base_uri": "https://localhost:8080/"
        },
        "id": "lxFcSMaRMnrj",
        "outputId": "e5f877d2-5ef2-4863-d621-7da9c87a6812"
      },
      "execution_count": 50,
      "outputs": [
        {
          "output_type": "stream",
          "name": "stdout",
          "text": [
            "[[1. 2.]\n",
            " [3. 4.]\n",
            " [5. 6.]]\n"
          ]
        }
      ]
    },
    {
      "cell_type": "markdown",
      "source": [
        "# SVD để giảm kích thước\n",
        "+ Dữ liệu mà có số cột nhiều hơn hàng có thể giảm xuống thành tập hợp các feature phù hợp để dự đoán. Kết quả là ma trận có thứ hạng thấp hơn để dự đoán gần đúng với ma trận ban đầu.\n",
        "+ Chúng ta thao tác SVD trên dữ liệu gốc và chọn k giá trị lớn nhất trong Sigma. CÁc cột này có thể chọn từ Sigma và các hàng được chọn từ V^T.\n",
        "+ Vector gần đúng B = U . Sigma_k . V^T_k\n"
      ],
      "metadata": {
        "id": "XYVWOKPxN4nF"
      }
    },
    {
      "cell_type": "code",
      "source": [
        "A = np.array([[1,2,3,4,5,6,7,8,9,10],\n",
        "              [11,12,13,14,15,16,17,18,19,20],\n",
        "              [21,22,23,24,25,26,27,28,29,30]])\n",
        "\n",
        "print('A = ', A)"
      ],
      "metadata": {
        "id": "1aCVRZS2NAhg",
        "colab": {
          "base_uri": "https://localhost:8080/"
        },
        "outputId": "cea23785-1fac-4e25-a007-a254a877eda6"
      },
      "execution_count": 51,
      "outputs": [
        {
          "output_type": "stream",
          "name": "stdout",
          "text": [
            "A =  [[ 1  2  3  4  5  6  7  8  9 10]\n",
            " [11 12 13 14 15 16 17 18 19 20]\n",
            " [21 22 23 24 25 26 27 28 29 30]]\n"
          ]
        }
      ]
    },
    {
      "cell_type": "code",
      "source": [
        "U, s, VT = svd(A)\n",
        "print('U = ', U.shape)\n",
        "print('s = ', s.shape)\n",
        "print('VT = ', VT.shape)\n"
      ],
      "metadata": {
        "colab": {
          "base_uri": "https://localhost:8080/"
        },
        "id": "1fOdP7grfJB2",
        "outputId": "2ca2c808-ade7-4b68-93c0-d886a23066e1"
      },
      "execution_count": 52,
      "outputs": [
        {
          "output_type": "stream",
          "name": "stdout",
          "text": [
            "U =  (3, 3)\n",
            "s =  (3,)\n",
            "VT =  (10, 10)\n"
          ]
        }
      ]
    },
    {
      "cell_type": "code",
      "source": [
        "Sigma = np.zeros((A.shape[0], A.shape[1]))\n",
        "Sigma[:A.shape[0], :A.shape[0]] = np.diag(s)\n",
        "n_element = 2\n",
        "Sigma = Sigma[:, :n_element]\n",
        "VT = VT[:n_element,:]"
      ],
      "metadata": {
        "id": "UL08epYlU9_6"
      },
      "execution_count": 54,
      "outputs": []
    },
    {
      "cell_type": "code",
      "source": [
        "print('U = ', U.shape)\n",
        "print('Sigma = ', Sigma.shape)\n",
        "print('VT = ', VT.shape)"
      ],
      "metadata": {
        "colab": {
          "base_uri": "https://localhost:8080/"
        },
        "id": "d6aUuvFdfqbu",
        "outputId": "fe690ff9-4bda-4f7d-ec35-14007952d929"
      },
      "execution_count": 56,
      "outputs": [
        {
          "output_type": "stream",
          "name": "stdout",
          "text": [
            "U =  (3, 3)\n",
            "Sigma =  (3, 2)\n",
            "VT =  (2, 10)\n"
          ]
        }
      ]
    },
    {
      "cell_type": "code",
      "source": [
        "B = U.dot(Sigma.dot(VT))\n",
        "print(B)"
      ],
      "metadata": {
        "colab": {
          "base_uri": "https://localhost:8080/"
        },
        "id": "I1tDvT_fbqvl",
        "outputId": "aed1e0bf-1c12-46f2-a404-54bd355e7f55"
      },
      "execution_count": 55,
      "outputs": [
        {
          "output_type": "stream",
          "name": "stdout",
          "text": [
            "[[ 1.  2.  3.  4.  5.  6.  7.  8.  9. 10.]\n",
            " [11. 12. 13. 14. 15. 16. 17. 18. 19. 20.]\n",
            " [21. 22. 23. 24. 25. 26. 27. 28. 29. 30.]]\n"
          ]
        }
      ]
    },
    {
      "cell_type": "markdown",
      "source": [
        "Ta giữ lại và làm việc với một tập hợp con mô tả của dữ liệu là T. Đây là bản tóm tắt của ma trận hoặc là một phép chiếu"
      ],
      "metadata": {
        "id": "J11sTmaGeQ4T"
      }
    },
    {
      "cell_type": "code",
      "source": [
        "T = U.dot(Sigma)\n",
        "print(T)"
      ],
      "metadata": {
        "colab": {
          "base_uri": "https://localhost:8080/"
        },
        "id": "sUpVOHK9btbQ",
        "outputId": "31399dd5-2603-46d7-d418-c33f2e9f59de"
      },
      "execution_count": 31,
      "outputs": [
        {
          "output_type": "stream",
          "name": "stdout",
          "text": [
            "[[-18.52157747   6.47697214]\n",
            " [-49.81310011   1.91182038]\n",
            " [-81.10462276  -2.65333138]]\n"
          ]
        }
      ]
    },
    {
      "cell_type": "markdown",
      "source": [
        "Ta có thể sử dụng các phép tính toán và áp dụng cho ma trận gốc A như các ma trận khác"
      ],
      "metadata": {
        "id": "1psbpsH-ea6y"
      }
    },
    {
      "cell_type": "code",
      "source": [
        "T = A.dot(VT.T)\n",
        "print(T)"
      ],
      "metadata": {
        "colab": {
          "base_uri": "https://localhost:8080/"
        },
        "id": "VJEuwURLcnVp",
        "outputId": "93455f4e-2b3c-4440-dc0c-af0a1a78db70"
      },
      "execution_count": 32,
      "outputs": [
        {
          "output_type": "stream",
          "name": "stdout",
          "text": [
            "[[-18.52157747   6.47697214]\n",
            " [-49.81310011   1.91182038]\n",
            " [-81.10462276  -2.65333138]]\n"
          ]
        }
      ]
    },
    {
      "cell_type": "markdown",
      "source": [
        "# Sử dụng Sklearn để giảm chiều SVD"
      ],
      "metadata": {
        "id": "26FWlw_-c6C2"
      }
    },
    {
      "cell_type": "code",
      "source": [
        "from sklearn.decomposition import TruncatedSVD"
      ],
      "metadata": {
        "id": "Zz36bRCWcswH"
      },
      "execution_count": 33,
      "outputs": []
    },
    {
      "cell_type": "code",
      "source": [
        "svd = TruncatedSVD(n_components=2)\n",
        "svd.fit(A)\n",
        "result= svd.transform(A)\n",
        "print(result)"
      ],
      "metadata": {
        "colab": {
          "base_uri": "https://localhost:8080/"
        },
        "id": "bxLmn1bAdBrs",
        "outputId": "43fd2d99-a020-45e3-be0d-a3684c1156af"
      },
      "execution_count": 35,
      "outputs": [
        {
          "output_type": "stream",
          "name": "stdout",
          "text": [
            "[[18.52157747  6.47697214]\n",
            " [49.81310011  1.91182038]\n",
            " [81.10462276 -2.65333138]]\n"
          ]
        }
      ]
    },
    {
      "cell_type": "code",
      "source": [],
      "metadata": {
        "id": "_xeVK6CNdJ3T"
      },
      "execution_count": null,
      "outputs": []
    }
  ]
}