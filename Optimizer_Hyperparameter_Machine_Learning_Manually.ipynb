{
  "nbformat": 4,
  "nbformat_minor": 0,
  "metadata": {
    "colab": {
      "provenance": []
    },
    "kernelspec": {
      "name": "python3",
      "display_name": "Python 3"
    },
    "language_info": {
      "name": "python"
    }
  },
  "cells": [
    {
      "cell_type": "code",
      "execution_count": 1,
      "metadata": {
        "colab": {
          "base_uri": "https://localhost:8080/"
        },
        "id": "mipLX_H_JUXv",
        "outputId": "31092a95-4d46-4b98-a0e4-ce81c1ff836e"
      },
      "outputs": [
        {
          "output_type": "stream",
          "name": "stdout",
          "text": [
            "(1000, 5) (1000,)\n"
          ]
        }
      ],
      "source": [
        "from sklearn.datasets import make_classification\n",
        "X,y = make_classification(n_samples =1000, n_features=5, n_informative=2,n_redundant=1,random_state=1)\n",
        "print(X.shape, y.shape)"
      ]
    },
    {
      "cell_type": "markdown",
      "source": [
        "# Optimizer Hyperparameter Perceptron\n",
        "+ eta : Learning rate\n",
        "+ alpha : regularization\n",
        "+ RepeatedStratifiedKFold là hàm chia ra làm k fold để đánh giá chéo với tham số n_split là số k fold, n_repeat là số lần lặp lại quá trình trên"
      ],
      "metadata": {
        "id": "DoHdGiU4LKN4"
      }
    },
    {
      "cell_type": "code",
      "source": [
        "import numpy as np\n",
        "from sklearn.model_selection import cross_val_score, RepeatedStratifiedKFold\n",
        "from sklearn.linear_model import Perceptron"
      ],
      "metadata": {
        "id": "OEwBAQO8Ll35"
      },
      "execution_count": 2,
      "outputs": []
    },
    {
      "cell_type": "code",
      "source": [
        "model = Perceptron()\n",
        "cv = RepeatedStratifiedKFold(n_splits=10, n_repeats=3, random_state=1)\n",
        "scores = cross_val_score(model,X,y,scoring='accuracy', cv=cv, n_jobs=-1)\n",
        "print(\"Scores = \",np.mean(scores))\n",
        "print(\"Std = \",np.std(scores))\n"
      ],
      "metadata": {
        "colab": {
          "base_uri": "https://localhost:8080/"
        },
        "id": "t1qFI52wL5OI",
        "outputId": "6397c1cd-b895-4d1c-eef3-ad008793d1c6"
      },
      "execution_count": 3,
      "outputs": [
        {
          "output_type": "stream",
          "name": "stdout",
          "text": [
            "Scores =  0.7863333333333334\n",
            "Std =  0.06887105503927045\n"
          ]
        }
      ]
    },
    {
      "cell_type": "code",
      "source": [
        "def objective(X,y, cfg):\n",
        "  eta, alpha = cfg\n",
        "  model = Perceptron(penalty='elasticnet', alpha=alpha,eta0=eta)\n",
        "  cv = RepeatedStratifiedKFold(n_splits=10, n_repeats=3, random_state=1)\n",
        "  scores = cross_val_score(model,X,y,scoring='accuracy', cv=cv, n_jobs=-1)\n",
        "  result = np.mean(scores)\n",
        "  return result\n",
        "\n",
        "def step(cfg, step_size):\n",
        "  eta, alpha = cfg\n",
        "  new_eta = eta + np.random.rand() * step_size\n",
        "  if new_eta <= 0.0:\n",
        "    new_eta = 1e-8\n",
        "\n",
        "  new_alpha = alpha + np.random.rand() * step_size\n",
        "  if new_alpha < 0.0:\n",
        "    new_alpha = 0.0\n",
        "  return [new_eta, new_alpha]\n",
        "\n",
        "def hillclimbing(X,y, objective, n_iter, step_size):\n",
        "\n",
        "  solution = [np.random.rand(), np.random.rand()]\n",
        "  solution_eval = objective(X,y, solution)\n",
        "\n",
        "  for i in range(n_iter):\n",
        "    candidate = step(solution, step_size)\n",
        "    candidate_eval = objective(X,y, candidate)\n",
        "\n",
        "    if candidate_eval >= solution_eval:\n",
        "      solution, solution_eval = candidate, candidate_eval\n",
        "\n",
        "  return [solution, solution_eval]\n"
      ],
      "metadata": {
        "id": "CEn84TMtQWHF"
      },
      "execution_count": 4,
      "outputs": []
    },
    {
      "cell_type": "code",
      "source": [
        "n_iter = 100\n",
        "step_size = 0.1\n",
        "cfg, score = hillclimbing(X,y, objective, n_iter, step_size)\n",
        "print(\"Cfg = \", cfg)\n",
        "print(\"Score = \", score)"
      ],
      "metadata": {
        "colab": {
          "base_uri": "https://localhost:8080/"
        },
        "id": "JcVkqKTecoMw",
        "outputId": "9dfd74bc-69d7-4390-a06c-c24dbed444e6"
      },
      "execution_count": 5,
      "outputs": [
        {
          "output_type": "stream",
          "name": "stdout",
          "text": [
            "Cfg =  [0.5921989964176219, 0.06622761220126494]\n",
            "Score =  0.8003333333333333\n"
          ]
        }
      ]
    },
    {
      "cell_type": "markdown",
      "source": [
        "# XGBOOST\n",
        "+ learning_rate : Tỉ lệ học tập ( 0< lr < 1)\n",
        "+ n_estimators : Số lượng cây kiểm soát quy mô của quần thể\n",
        "+ subsample : Tỷ lệ mẫu phụ xác dịnh kích thước mẫu ngẫu nhiên dùng để huấn luyện từng cây ( 0 < subsam < 1)\n",
        "+ max_depth: độ sâu của cây là số tầng trong mỗi cây( thường từ 1 đến 10)"
      ],
      "metadata": {
        "id": "VeaUEqCio3WT"
      }
    },
    {
      "cell_type": "code",
      "source": [
        "!pip install xgboost"
      ],
      "metadata": {
        "colab": {
          "base_uri": "https://localhost:8080/"
        },
        "id": "1agsUUxInosa",
        "outputId": "0a238511-bae1-4341-80b5-fb2e5c9acfa7"
      },
      "execution_count": 6,
      "outputs": [
        {
          "output_type": "stream",
          "name": "stdout",
          "text": [
            "Requirement already satisfied: xgboost in /usr/local/lib/python3.10/dist-packages (1.7.6)\n",
            "Requirement already satisfied: numpy in /usr/local/lib/python3.10/dist-packages (from xgboost) (1.22.4)\n",
            "Requirement already satisfied: scipy in /usr/local/lib/python3.10/dist-packages (from xgboost) (1.10.1)\n"
          ]
        }
      ]
    },
    {
      "cell_type": "code",
      "source": [
        "from xgboost import XGBClassifier\n",
        "\n",
        "model = XGBClassifier()\n",
        "cv = RepeatedStratifiedKFold(n_splits=10, n_repeats=3, random_state=1)\n",
        "\n",
        "scores = cross_val_score(model, X,y, scoring='accuracy', cv=cv, n_jobs=-1)\n",
        "print(\"Score = \", np.mean(scores))\n",
        "print(\"Std = \", np.std(scores))\n"
      ],
      "metadata": {
        "colab": {
          "base_uri": "https://localhost:8080/"
        },
        "id": "iGQ0BMLzo_Ja",
        "outputId": "9bb63cfd-25b8-4426-f7b1-9902380aa692"
      },
      "execution_count": 7,
      "outputs": [
        {
          "output_type": "stream",
          "name": "stdout",
          "text": [
            "Score =  0.8486666666666667\n",
            "Std =  0.03989430480100581\n"
          ]
        }
      ]
    },
    {
      "cell_type": "code",
      "source": [
        "def objectives(X,y,cfg):\n",
        "  lr, n_tree, subsam, depth = cfg\n",
        "  model = XGBClassifier(learning_rate=lr, n_estimators=3, subsample=subsam, max_depth = depth)\n",
        "  cv = RepeatedStratifiedKFold(n_splits=10, n_repeats=3, random_state=1)\n",
        "  scores = cross_val_score(model, X,y, scoring='accuracy', cv=cv, n_jobs=-1)\n",
        "  result = np.mean(scores)\n",
        "  return result\n",
        "\n",
        "def step(cfg):\n",
        "  lrate, n_tree, subsam, depth = cfg\n",
        "\n",
        "  lrate = lrate + np.random.randn() * 0.01\n",
        "  if lrate <= 0.0:\n",
        "    lrate = 1e-8\n",
        "  if lrate > 1:\n",
        "    lrate = 1.0\n",
        "\n",
        "  n_tree = round(n_tree + np.random.randn() * 50)\n",
        "  if n_tree <= 0.0:\n",
        "    n_tree = 1\n",
        "\n",
        "  subsam = subsam + np.random.randn() * 0.1\n",
        "  if subsam <= 0.0:\n",
        "    subsam = 1e-8\n",
        "  if subsam > 1:\n",
        "    subsam = 1.0\n",
        "\n",
        "  depth = round(depth + np.random.randn() * 7)\n",
        "  if depth <= 1:\n",
        "    depth = 1\n",
        "  return [lrate, n_tree, subsam, depth]\n",
        "\n",
        "def hillclimbing(X, y, objectives, n_iter):\n",
        "  solution = step([0.1, 100, 1.0, 7])\n",
        "  solution_eval = objectives(X, y, solution)\n",
        "  for i in range(n_iter):\n",
        "    candidate = step(solution)\n",
        "    candidate_eval = objectives(X, y, candidate)\n",
        "    if candidate_eval >= solution_eval:\n",
        "      solution, solution_eval = candidate, candidate_eval\n",
        "  return [solution, solution_eval]\n",
        "\n",
        "n_iter = 200\n",
        "cfg, score = hillclimbing(X, y, objectives, n_iter)\n",
        "print(\"cfg = \", (cfg))\n",
        "print(\"Score = \", (scores))"
      ],
      "metadata": {
        "colab": {
          "base_uri": "https://localhost:8080/"
        },
        "id": "xVodIcsgpfZW",
        "outputId": "75ac88a0-eb0e-4ab5-d8ab-ed064996f727"
      },
      "execution_count": 8,
      "outputs": [
        {
          "output_type": "stream",
          "name": "stdout",
          "text": [
            "cfg =  [0.0761989499826298, 252, 1.0, 4]\n",
            "Score =  [0.92 0.84 0.86 0.84 0.86 0.87 0.78 0.78 0.89 0.83 0.92 0.81 0.86 0.76\n",
            " 0.85 0.89 0.82 0.86 0.84 0.89 0.84 0.8  0.87 0.9  0.81 0.84 0.85 0.89\n",
            " 0.81 0.88]\n"
          ]
        }
      ]
    },
    {
      "cell_type": "code",
      "source": [
        "print(objectives(X,y,cfg))"
      ],
      "metadata": {
        "colab": {
          "base_uri": "https://localhost:8080/"
        },
        "id": "SZ05gJI9rBqP",
        "outputId": "e6b92cf0-f397-4cf1-909f-92d408d8aa27"
      },
      "execution_count": null,
      "outputs": [
        {
          "output_type": "stream",
          "name": "stdout",
          "text": [
            "0.8753333333333335\n"
          ]
        }
      ]
    },
    {
      "cell_type": "code",
      "source": [],
      "metadata": {
        "id": "IGlLstaUtTla"
      },
      "execution_count": null,
      "outputs": []
    }
  ]
}