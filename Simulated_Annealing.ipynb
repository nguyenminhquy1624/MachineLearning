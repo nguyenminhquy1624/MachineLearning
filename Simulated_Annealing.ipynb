{
  "nbformat": 4,
  "nbformat_minor": 0,
  "metadata": {
    "colab": {
      "provenance": []
    },
    "kernelspec": {
      "name": "python3",
      "display_name": "Python 3"
    },
    "language_info": {
      "name": "python"
    }
  },
  "cells": [
    {
      "cell_type": "code",
      "source": [
        "import numpy as np\n",
        "import matplotlib.pyplot as plt\n"
      ],
      "metadata": {
        "id": "XNi47-VUQprt"
      },
      "execution_count": 1,
      "outputs": []
    },
    {
      "cell_type": "code",
      "execution_count": 9,
      "metadata": {
        "id": "Pef5w1lj81EH"
      },
      "outputs": [],
      "source": [
        "def simulated_annealing(objective, bounds, n_iter, step_size, temp):\n",
        "  best = bounds[:,0] + np.random.rand(len(bounds)) * ( bounds[:,1] - bounds[:,0])\n",
        "  best_eval = objective(best)\n",
        "\n",
        "  curr, curr_eval = best, best_eval\n",
        "  scores = list()\n",
        "  scores.append(best_eval)\n",
        "  for i in range(n_iter):\n",
        "    candidate = curr + np.random.randn(len(bounds)) * step_size\n",
        "    candidate_eval = objective(candidate)\n",
        "\n",
        "    if candidate_eval < best_eval:\n",
        "      best, best_eval = candidate, candidate_eval\n",
        "      scores.append(best_eval)\n",
        "\n",
        "\n",
        "    diff = candidate_eval - curr_eval\n",
        "    t = temp/float(i+1)\n",
        "    metropolis = np.exp(-diff/t)\n",
        "\n",
        "    if diff < 0 or np.random.rand() < metropolis:\n",
        "      curr, curr_eval = candidate, candidate_eval\n",
        "\n",
        "  return [best, best_eval, scores]\n"
      ]
    },
    {
      "cell_type": "code",
      "source": [
        "def objective(x):\n",
        "  return x ** 2.0\n",
        "\n",
        "r_min, r_max = -5.0, 5.0\n",
        "inputs = np.arange(r_min, r_max, 0.1)\n",
        "results = [objective(x) for x in inputs ]\n"
      ],
      "metadata": {
        "id": "N4moHkpTR1QK"
      },
      "execution_count": 6,
      "outputs": []
    },
    {
      "cell_type": "code",
      "source": [
        "np.random.seed(1)\n",
        "bounds = np.asarray([[-5.0, 5.0]])\n",
        "n_iter = 1000\n",
        "step_size = 0.1\n",
        "temp = 10\n",
        "best, score, scores = simulated_annealing(objective, bounds, n_iter, step_size, temp)\n"
      ],
      "metadata": {
        "id": "8EUiPsRoTaJK"
      },
      "execution_count": 10,
      "outputs": []
    },
    {
      "cell_type": "code",
      "source": [
        "print(\"Best = \", best)\n",
        "print(\"Score = \", score)\n"
      ],
      "metadata": {
        "colab": {
          "base_uri": "https://localhost:8080/"
        },
        "id": "3jgFurWfT8JJ",
        "outputId": "dfcdc4b4-61ba-4d2d-84fa-cd63158ae2bb"
      },
      "execution_count": 8,
      "outputs": [
        {
          "output_type": "stream",
          "name": "stdout",
          "text": [
            "Best =  [0.00013605]\n",
            "Score =  [1.85086423e-08]\n"
          ]
        }
      ]
    },
    {
      "cell_type": "code",
      "source": [
        "plt.plot(scores, '.-')\n",
        "plt.show()"
      ],
      "metadata": {
        "colab": {
          "base_uri": "https://localhost:8080/",
          "height": 430
        },
        "id": "kDDEyh0dUAn3",
        "outputId": "a1a4eb6b-ac9e-49c0-e156-6799fb0788d0"
      },
      "execution_count": 11,
      "outputs": [
        {
          "output_type": "display_data",
          "data": {
            "text/plain": [
              "<Figure size 640x480 with 1 Axes>"
            ],
            "image/png": "[encoded data removed]"
          },
          "metadata": {}
        }
      ]
    },
    {
      "cell_type": "code",
      "source": [],
      "metadata": {
        "id": "Ag6cqvXLUeg4"
      },
      "execution_count": null,
      "outputs": []
    }
  ]
}