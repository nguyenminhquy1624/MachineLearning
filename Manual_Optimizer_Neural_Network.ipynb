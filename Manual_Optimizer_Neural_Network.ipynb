{
  "nbformat": 4,
  "nbformat_minor": 0,
  "metadata": {
    "colab": {
      "provenance": []
    },
    "kernelspec": {
      "name": "python3",
      "display_name": "Python 3"
    },
    "language_info": {
      "name": "python"
    }
  },
  "cells": [
    {
      "cell_type": "code",
      "execution_count": 157,
      "metadata": {
        "colab": {
          "base_uri": "https://localhost:8080/"
        },
        "id": "HXMAlJpwYALk",
        "outputId": "0f3a26ed-cbae-4ffe-e454-3c02eebae6fb"
      },
      "outputs": [
        {
          "output_type": "stream",
          "name": "stdout",
          "text": [
            "(1000, 5) (1000,)\n"
          ]
        }
      ],
      "source": [
        "from sklearn.datasets import make_classification\n",
        "X, y = make_classification(n_samples=1000, n_features=5, n_informative=2, n_redundant=1, random_state=1)\n",
        "print(X.shape, y.shape)"
      ]
    },
    {
      "cell_type": "markdown",
      "source": [
        "# Tối ưu hóa mô hình Perceptron"
      ],
      "metadata": {
        "id": "w8IaErqfZQVP"
      }
    },
    {
      "cell_type": "code",
      "source": [
        "from sklearn.metrics import accuracy_score\n",
        "from sklearn.model_selection import train_test_split\n",
        "import numpy as np\n",
        "import math"
      ],
      "metadata": {
        "id": "ShEQrbbgZD5d"
      },
      "execution_count": 92,
      "outputs": []
    },
    {
      "cell_type": "code",
      "source": [
        "def activate(row, weight):\n",
        "  activate = weight[-1]\n",
        "  for i in range(len(row)):\n",
        "    activate += weight[i] * row[i]\n",
        "  return activate"
      ],
      "metadata": {
        "id": "9zXJ9psfapge"
      },
      "execution_count": 19,
      "outputs": []
    },
    {
      "cell_type": "code",
      "source": [
        "def transfer(activate):\n",
        "  if activate >= 0.0:\n",
        "    return 1\n",
        "  return 0"
      ],
      "metadata": {
        "id": "zmLksB37a847"
      },
      "execution_count": 20,
      "outputs": []
    },
    {
      "cell_type": "code",
      "source": [
        "def predict_row(row, weight):\n",
        "  active = activate(row, weight)\n",
        "  result = transfer(active)\n",
        "  return result"
      ],
      "metadata": {
        "id": "-p4GLlAubE3-"
      },
      "execution_count": 21,
      "outputs": []
    },
    {
      "cell_type": "code",
      "source": [
        "def predict_dataset(X, weight):\n",
        "  y_hat = list()\n",
        "  for row in X:\n",
        "    pred = predict_row(row, weight)\n",
        "    y_hat.append(pred)\n",
        "  return y_hat"
      ],
      "metadata": {
        "id": "1dDXghm8bVQt"
      },
      "execution_count": 22,
      "outputs": []
    },
    {
      "cell_type": "code",
      "source": [
        "n_weights = X.shape[1] + 1\n",
        "weight = np.random.rand(n_weights)\n",
        "predict = predict_dataset(X, weight)\n",
        "score = accuracy_score(y,predict)"
      ],
      "metadata": {
        "id": "8AnYLMt3boN-"
      },
      "execution_count": 66,
      "outputs": []
    },
    {
      "cell_type": "code",
      "source": [
        "print(\"Accuracy Score random weight = \", score)"
      ],
      "metadata": {
        "colab": {
          "base_uri": "https://localhost:8080/"
        },
        "id": "tvIkJ8BYbsve",
        "outputId": "b31f9ada-1943-4e9e-b305-f68d747aa4ce"
      },
      "execution_count": 67,
      "outputs": [
        {
          "output_type": "stream",
          "name": "stdout",
          "text": [
            "Accuracy Score random weight =  0.543\n"
          ]
        }
      ]
    },
    {
      "cell_type": "code",
      "source": [
        "def objective(X, y , weight):\n",
        "  predict = predict_dataset(X, weight)\n",
        "  score = accuracy_score(y,predict)\n",
        "  return score"
      ],
      "metadata": {
        "id": "-B13_LUvc0cR"
      },
      "execution_count": 26,
      "outputs": []
    },
    {
      "cell_type": "code",
      "source": [
        "def hillclimbing(X,y,objective, solution, n_iter, step_size):\n",
        "  solution_eval = objective(X,y,solution)\n",
        "\n",
        "  for i in range(n_iter):\n",
        "    candidate = solution + (np.random.rand(len(solution)) * step_size)\n",
        "    candidate_eval = objective(X,y,candidate)\n",
        "\n",
        "    if candidate_eval >= solution_eval:\n",
        "      solution_eval = candidate_eval\n",
        "      solution = candidate\n",
        "\n",
        "  return [solution, solution_eval]\n",
        ""
      ],
      "metadata": {
        "id": "c2wjkU2ddPDE"
      },
      "execution_count": 39,
      "outputs": []
    },
    {
      "cell_type": "code",
      "source": [
        "X_train, X_test, y_train, y_test = train_test_split(X,y, test_size = 0.3)\n",
        "n_iter = 1000\n",
        "step_size = 0.1\n",
        "n_weights = X.shape[1] + 1\n",
        "solution = np.random.rand(n_weights)\n",
        "weight, score = hillclimbing(X_train, y_train, objective, solution, n_iter, step_size)"
      ],
      "metadata": {
        "id": "xq1WyiVad-bw"
      },
      "execution_count": 55,
      "outputs": []
    },
    {
      "cell_type": "code",
      "source": [
        "print(\"Accuracy score = \", score)"
      ],
      "metadata": {
        "colab": {
          "base_uri": "https://localhost:8080/"
        },
        "id": "KVqzWgUgej57",
        "outputId": "f9c766f9-10bb-456a-bcec-2f38a3e39aad"
      },
      "execution_count": 56,
      "outputs": [
        {
          "output_type": "stream",
          "name": "stdout",
          "text": [
            "Accuracy score =  0.7171428571428572\n"
          ]
        }
      ]
    },
    {
      "cell_type": "code",
      "source": [
        "y_hat = predict_dataset(X_test,weight)\n",
        "score_test = accuracy_score(y_test, y_hat)\n",
        "print(\"Accuracy Score test  = \", score_test)"
      ],
      "metadata": {
        "colab": {
          "base_uri": "https://localhost:8080/"
        },
        "id": "qc7idRa9e3JT",
        "outputId": "f8f8fd07-264e-4c67-b9b5-874aaca355ae"
      },
      "execution_count": 57,
      "outputs": [
        {
          "output_type": "stream",
          "name": "stdout",
          "text": [
            "Accuracy Score test  =  0.69\n"
          ]
        }
      ]
    },
    {
      "cell_type": "markdown",
      "source": [
        "# Tối ưu hóa Perceptron đa lớp"
      ],
      "metadata": {
        "id": "-JhpREdLhiEF"
      }
    },
    {
      "cell_type": "code",
      "source": [
        "def transfer(activation):\n",
        "  return (1.0/ ( 1+ np.exp(-activation)))"
      ],
      "metadata": {
        "id": "tODZUkSsfnmt"
      },
      "execution_count": 176,
      "outputs": []
    },
    {
      "cell_type": "code",
      "source": [
        "def activate(row, weight):\n",
        "  activ = weight[-1]\n",
        "  for i in range(len(row)):\n",
        "    activ += weight[i] * row[i]\n",
        "  return activ"
      ],
      "metadata": {
        "id": "Xy3OaHkwiMSl"
      },
      "execution_count": 177,
      "outputs": []
    },
    {
      "cell_type": "code",
      "source": [
        "def predict_row(row, layers):\n",
        "  inputs = row\n",
        "\n",
        "  for layer in layers:\n",
        "    new_input = list()\n",
        "    for node in layer:\n",
        "      activ = activate(inputs, node)\n",
        "      output = transfer(activ)\n",
        "      new_input.append(output)\n",
        "    inputs = new_input\n",
        "  return inputs[0]\n"
      ],
      "metadata": {
        "id": "vbl0lKDLig13"
      },
      "execution_count": 178,
      "outputs": []
    },
    {
      "cell_type": "code",
      "source": [
        "def predict_dataset(X, layers):\n",
        "  y_hat = list()\n",
        "  for row in X:\n",
        "    pred = predict_row(row, layers)\n",
        "    y_hat.append(pred)\n",
        "  return y_hat"
      ],
      "metadata": {
        "id": "uSVUaUjDkAqq"
      },
      "execution_count": 179,
      "outputs": []
    },
    {
      "cell_type": "code",
      "source": [
        "n_inputs = X.shape[1]\n",
        "n_hidden = 10\n",
        "hidden1 = [np.random.rand(n_inputs + 1) for _ in range(n_hidden)]\n",
        "output1 = [np.random.rand(n_hidden + 1)]\n",
        "network = [hidden1, output1]\n",
        "y_hat = predict_dataset(X, network)\n"
      ],
      "metadata": {
        "id": "GtPpKCeelujn"
      },
      "execution_count": 187,
      "outputs": []
    },
    {
      "cell_type": "code",
      "source": [
        "y_hat = [round(y) for y in y_hat]\n",
        "score = accuracy_score(y, y_hat)\n",
        "print(\"Score random weight in network = \", score)"
      ],
      "metadata": {
        "colab": {
          "base_uri": "https://localhost:8080/"
        },
        "id": "wiH7z2HrmQJp",
        "outputId": "e5659f14-a608-49be-d124-23b70b27b8ab"
      },
      "execution_count": 188,
      "outputs": [
        {
          "output_type": "stream",
          "name": "stdout",
          "text": [
            "Score random weight in network =  0.499\n"
          ]
        }
      ]
    },
    {
      "cell_type": "markdown",
      "source": [
        "## Training"
      ],
      "metadata": {
        "id": "9Ssv2puQyeKi"
      }
    },
    {
      "cell_type": "code",
      "source": [
        "def transfer(activation):\n",
        "  return (1.0/ ( 1+ np.exp(-activation)))"
      ],
      "metadata": {
        "id": "6MaXUcQ0yk32"
      },
      "execution_count": 196,
      "outputs": []
    },
    {
      "cell_type": "code",
      "source": [
        "def predict_row(row, layers):\n",
        "  inputs = row\n",
        "\n",
        "  for layer in layers:\n",
        "    new_input = list()\n",
        "    for node in layer:\n",
        "      activ = activate(inputs, node)\n",
        "      output = transfer(activ)\n",
        "      new_input.append(output)\n",
        "    inputs = new_input\n",
        "  return inputs[0]\n"
      ],
      "metadata": {
        "id": "GriGCk6qypiz"
      },
      "execution_count": 197,
      "outputs": []
    },
    {
      "cell_type": "code",
      "source": [
        "def predict_dataset(X, layers):\n",
        "  y_hat = list()\n",
        "  for row in X:\n",
        "    pred = predict_row(row, layers)\n",
        "    y_hat.append(pred)\n",
        "  return y_hat"
      ],
      "metadata": {
        "id": "uGGY0I1wytOC"
      },
      "execution_count": 198,
      "outputs": []
    },
    {
      "cell_type": "code",
      "source": [
        "def objective(X,y, network):\n",
        "  y_hat = predict_dataset(X,network)\n",
        "  y_hat = [round(y_) for y_ in y_hat]\n",
        "  score = accuracy_score(y,y_hat)\n",
        "  return score"
      ],
      "metadata": {
        "id": "GfT5b-k0xwdF"
      },
      "execution_count": 199,
      "outputs": []
    },
    {
      "cell_type": "code",
      "source": [
        "def step(network, step_size):\n",
        "  new_net = list()\n",
        "\n",
        "  for layer in network:\n",
        "    new_layer = list()\n",
        "    for node in layer:\n",
        "      new_node = node.copy() + np.random.randn(len(node)) * step_size\n",
        "      new_layer.append(new_node)\n",
        "    new_net.append(new_layer)\n",
        "  return new_net"
      ],
      "metadata": {
        "id": "m7TlJeWAuVdi"
      },
      "execution_count": 200,
      "outputs": []
    },
    {
      "cell_type": "code",
      "source": [
        "def hillclimbing(X,y, objective, solution, n_iter, step_size):\n",
        "  solution_eval = objective(X,y, solution)\n",
        "\n",
        "  for i in range(n_iter):\n",
        "    candidate = step(solution, step_size)\n",
        "    candidate_eval = objective(X,y, candidate)\n",
        "    if candidate_eval >= solution_eval:\n",
        "      solution, solution_eval = candidate, candidate_eval\n",
        "  return [solution, solution_eval]"
      ],
      "metadata": {
        "id": "CR8yfpTynUEC"
      },
      "execution_count": 201,
      "outputs": []
    },
    {
      "cell_type": "code",
      "source": [
        "X_train, X_test, y_train, y_test = train_test_split(X,y, test_size = 0.3)\n",
        "n_inputs = X.shape[1]\n",
        "n_hidden = 10\n",
        "n_iter = 1000\n",
        "step_size = 0.05\n",
        "hidden1 = [np.random.rand(n_inputs + 1) for _ in range(n_hidden)]\n",
        "output1 = [np.random.rand(n_hidden + 1)]\n",
        "network = [hidden1, output1]\n",
        "\n",
        "networkout, score = hillclimbing(X_train,y_train, objective, network, n_iter, step_size)\n"
      ],
      "metadata": {
        "id": "-xKYNCmRvOMt"
      },
      "execution_count": 211,
      "outputs": []
    },
    {
      "cell_type": "code",
      "source": [
        "print(\"Accuracy score training = \", score)"
      ],
      "metadata": {
        "colab": {
          "base_uri": "https://localhost:8080/"
        },
        "id": "xwlXJSi4vs70",
        "outputId": "d682c5e5-a3a9-436d-eafc-266bba0a582e"
      },
      "execution_count": 212,
      "outputs": [
        {
          "output_type": "stream",
          "name": "stdout",
          "text": [
            "Accuracy score training =  0.8614285714285714\n"
          ]
        }
      ]
    },
    {
      "cell_type": "code",
      "source": [
        "prediction = predict_dataset(X_test, networkout)\n",
        "prediction = [round(score) for score in prediction]\n",
        "score_test = accuracy_score(y_test, prediction)"
      ],
      "metadata": {
        "id": "xPy60GQyvwpP"
      },
      "execution_count": 213,
      "outputs": []
    },
    {
      "cell_type": "code",
      "source": [
        "print(\"Accuracy score test = \", score_test)"
      ],
      "metadata": {
        "colab": {
          "base_uri": "https://localhost:8080/"
        },
        "id": "88wEExYbwDGc",
        "outputId": "3411f579-4a8f-48af-ca49-cfb1f61ae99f"
      },
      "execution_count": 214,
      "outputs": [
        {
          "output_type": "stream",
          "name": "stdout",
          "text": [
            "Accuracy score test =  0.8466666666666667\n"
          ]
        }
      ]
    },
    {
      "cell_type": "code",
      "source": [],
      "metadata": {
        "id": "N0F1GNY-wGch"
      },
      "execution_count": null,
      "outputs": []
    }
  ]
}