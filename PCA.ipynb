{
  "nbformat": 4,
  "nbformat_minor": 0,
  "metadata": {
    "colab": {
      "provenance": []
    },
    "kernelspec": {
      "name": "python3",
      "display_name": "Python 3"
    },
    "language_info": {
      "name": "python"
    }
  },
  "cells": [
    {
      "cell_type": "markdown",
      "source": [
        "+ Phân tích thành phần chính(PCA) giúp giảm kích thước của dữ liệu. Sau đây là phương pháp tính toán PCA dựa trên hiệp phương sai.\n",
        "+ Nó là phương pháp chiếu có m cột được chiếu vào không gian có chứa ít cột hơn nhưng vẫn giữ được bản chất của dữ liệu.\n",
        "  + B1: Có ma trận A và ta sẽ tính M = mean(A)\n",
        "  + B2: Căn giữa các giá trị trong mỗi cột bằng cách trừ đi giá trị trung bình : C = A - M\n",
        "  +B3: Tính ma trận hiệp phương sai của ma trận C: V = cov(C)\n",
        "  B4 : Tính cách thành phần riêng của ma trận hiệp phương sai V: values, vector = eig(V)\n",
        "+ Nếu tất cả các giá trị riêng có 1 giá trị tương tự thì biểu diện ta đã nén dữ liệu và các giá trị này mang nhiều ý nghĩa. Còn nếu các giá trị riêng gần bằng 0 thì chúng biểu thị các thành phần đó có thể loại bỏ mà không gây ảnh hưởng nhiều.\n",
        "B = select(values, vectors)\n",
        "\n",
        "+ Sau khi chọn được dữ liệu chúng ta sẽ chiếu vào không gian con thông qua phép nhân ma trận: P = B^T . A"
      ],
      "metadata": {
        "id": "Msbgdta4gOkY"
      }
    },
    {
      "cell_type": "code",
      "execution_count": 1,
      "metadata": {
        "id": "ednWE67XgC6i"
      },
      "outputs": [],
      "source": [
        "import numpy as np\n",
        "from numpy.linalg import eig"
      ]
    },
    {
      "cell_type": "code",
      "source": [
        "A = np.array([[1,2],[3,4],[5,6]])\n",
        "M = np.mean(A)\n",
        "print(\"M = \",M)\n",
        "C = A-M\n",
        "print(\"C = \", C)"
      ],
      "metadata": {
        "colab": {
          "base_uri": "https://localhost:8080/"
        },
        "id": "h4TA0ECBiUvf",
        "outputId": "e4469419-a207-4ad9-fe08-e9f66bd97e21"
      },
      "execution_count": 3,
      "outputs": [
        {
          "output_type": "stream",
          "name": "stdout",
          "text": [
            "M =  3.5\n",
            "C =  [[-2.5 -1.5]\n",
            " [-0.5  0.5]\n",
            " [ 1.5  2.5]]\n"
          ]
        }
      ]
    },
    {
      "cell_type": "code",
      "source": [
        "V = np.cov(C.T)\n",
        "print(\"V = \", V)"
      ],
      "metadata": {
        "colab": {
          "base_uri": "https://localhost:8080/"
        },
        "id": "0nGQ2m_iijR_",
        "outputId": "a895680a-73ff-4797-e2c8-dbfa81e777e9"
      },
      "execution_count": 4,
      "outputs": [
        {
          "output_type": "stream",
          "name": "stdout",
          "text": [
            "V =  [[4. 4.]\n",
            " [4. 4.]]\n"
          ]
        }
      ]
    },
    {
      "cell_type": "code",
      "source": [
        "values, vectors = eig(V)\n",
        "print(\"values = \", values)\n",
        "print(\"Vectors = \", vectors)"
      ],
      "metadata": {
        "colab": {
          "base_uri": "https://localhost:8080/"
        },
        "id": "rtfPNz0iivzz",
        "outputId": "a565dcaf-936f-485c-b23b-7925cf74ec15"
      },
      "execution_count": 5,
      "outputs": [
        {
          "output_type": "stream",
          "name": "stdout",
          "text": [
            "values =  [8. 0.]\n",
            "Vectors =  [[ 0.70710678 -0.70710678]\n",
            " [ 0.70710678  0.70710678]]\n"
          ]
        }
      ]
    },
    {
      "cell_type": "code",
      "source": [
        "P = vectors.T.dot(C.T)\n",
        "print(\"P^T = \", P.T)"
      ],
      "metadata": {
        "colab": {
          "base_uri": "https://localhost:8080/"
        },
        "id": "aZQ2dF1Ai7th",
        "outputId": "f1d67ea6-12f6-4e7b-8b45-78cc3b3443df"
      },
      "execution_count": 8,
      "outputs": [
        {
          "output_type": "stream",
          "name": "stdout",
          "text": [
            "P^T =  [[-2.82842712  0.70710678]\n",
            " [ 0.          0.70710678]\n",
            " [ 2.82842712  0.70710678]]\n"
          ]
        }
      ]
    },
    {
      "cell_type": "markdown",
      "source": [
        "# PCA với Sklearn"
      ],
      "metadata": {
        "id": "T6lnTaS7jv2W"
      }
    },
    {
      "cell_type": "code",
      "source": [
        "from sklearn.decomposition import PCA"
      ],
      "metadata": {
        "id": "ExqMkSWGjrGV"
      },
      "execution_count": 9,
      "outputs": []
    },
    {
      "cell_type": "code",
      "source": [
        "pca = PCA(1)\n",
        "pca.fit(A)\n",
        "print(pca.components_)\n",
        "print(pca.explained_variance_)\n",
        "B = pca.transform(A)\n",
        "print(B)"
      ],
      "metadata": {
        "colab": {
          "base_uri": "https://localhost:8080/"
        },
        "id": "UDp1lR4Aj2Xc",
        "outputId": "447ac3e9-28da-4499-b4f8-6355f12f96aa"
      },
      "execution_count": 11,
      "outputs": [
        {
          "output_type": "stream",
          "name": "stdout",
          "text": [
            "[[0.70710678 0.70710678]]\n",
            "[8.]\n",
            "[[-2.82842712]\n",
            " [ 0.        ]\n",
            " [ 2.82842712]]\n"
          ]
        }
      ]
    },
    {
      "cell_type": "code",
      "source": [],
      "metadata": {
        "id": "mHUxpgfzkEr3"
      },
      "execution_count": null,
      "outputs": []
    }
  ]
}